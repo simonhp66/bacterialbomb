{
 "cells": [
  {
   "cell_type": "markdown",
   "metadata": {},
   "source": [
    "\n",
    "\n",
    "# Bacterial bomb\n",
    "## 1. Introduction\n",
    "\n",
    "This is an assessed project as part of Geog5003M at the University of Leeds.\n",
    "\n",
    "The project involves tracking the fallout from an imaginary biological bomb that has been set off in an urban area. The aim is to read in a file which identifies where the bomb has been set off and then to track the spread of the particles and map where they land. This is a probability based approach where the direction and altitude of each particle depends on windspeed and height. \n",
    "\n",
    "The basic code maps the particles onto a flat plain surface. The project is then extended by enabling the user to choose the number of particles, the windspeed and to have the particles landing on a contoured surface or digital elevation model. \n",
    "\n",
    "The code is written in python and runs within this Jupyter notebook. It can also be run at the command line. It has a GUI.\n",
    "\n",
    "## 1.1 How this notebook is organised\n",
    "\n",
    "After the introduction in section 1, section 2 takes the reader through the development of the basic model and functionality. Section 3 then adds some more complex overlays to the basic model including having the bomb particles fall onto a more complex terrain and then the potential impact of a rainstorm washing the particles along the ground.\n",
    "\n",
    "In the appendix is the completed final model.\n",
    "\n",
    "## 1.2 Bacterial bombs and mapping fallout in context\n",
    "\n",
    "There is a heightened concern around the use of \"dirty bombs\". There are a plethora of both state sponsored and independent \"bad actors\" who are motivated to cause terror. There have been several incidents of apparently deliberate poisoning with radioactive materials although these have been targeted at specific indivudalsrather than causing terror to a community. \n",
    "\n",
    "Following the covid crisis people are at a heightened sense of alert and concern over health issues in general.\n",
    "\n",
    "Modelling and mapping dirty bombs (read some academic material, particularly the use of computer modelling) \n",
    "\n",
    "## 1.3 How the code was developed\n",
    "\n",
    "The basic algorithmn given in the instructions was followed and the basic structure of the code is similar to an earlier piece of work on agent based modelling. Initially the logic for particle movement was developed for a single particle and once it was working it was developed for a class of particles. \n",
    "The basic model was then further developed by including a GUI with some user choices. Some complexity was added by considering how the particles would land on a surface that was not flat. This means that on each iteration one needs to consider the height of the particle and the height of the land at that point.  \n",
    "\n",
    "## 1.4 Areas for further development\n",
    "\n",
    "The next stage would be to consider how the particles might flow from their landing point in event being of washed away in a rainstorm. In order to do this one would need to consider the height of each cell and its 8 neighbours to establish in which direction the particles would flow. This is quite complex because many cells are the same height as their neighbours. \n"
   ]
  },
  {
   "cell_type": "markdown",
   "metadata": {},
   "source": [
    "## 2 Building the model step by step\n",
    "\n",
    "### 2.1 Introduction\n",
    "The model has been built in python and consists of two files bacterialbomb.py and particlemove.py which is imported into the first file.\n",
    "\n",
    "### 2.1 Basic algorithmn\n",
    "\n",
    "The approach to be taken is as follows;\n",
    "1. Setting up a GUI\n",
    "2. Reading the data from the website, converting the raster to a 2D list and identify the location of the bomb\n",
    "3. Build the prediction logic for a single particle\n",
    "4. Develop the model so that 5000 particles can be run through the same logic\n",
    "5. Record where each of the 5000 particles land\n",
    "6. Develop a density map of where the particles land\n",
    "7. Save the density map to a file as text\n",
    "\n",
    "### 2.2 Setting up the imports, variables and lists\n",
    "\n",
    "This section of code includes the imported libraries of functions and creates some global variables and lists used later in the code."
   ]
  },
  {
   "cell_type": "code",
   "execution_count": 1,
   "metadata": {},
   "outputs": [],
   "source": [
    "# Imports\n",
    "import matplotlib.pyplot\n",
    "import csv\n",
    "from bs4 import BeautifulSoup\n",
    "import requests\n",
    "import xlsxwriter\n",
    "import random\n",
    "import particlemove # Associated file used to move particles\n",
    "import tkinter as tk\n",
    "\n",
    "\n",
    "# Model variables\n",
    "num_of_iterations = 200\n",
    "num_of_particles = 0  # This creates the object it is updated in the GUI\n",
    "wind_speed = 0  # This is updated in the GUI \n",
    "\n",
    "\n",
    "# Creating lists\n",
    "particles = [] #Used to hold particle data\n",
    "citydata = [] #Used to hold bombsite and then particle landing position data\n",
    "environment = [] #Used to hold a digital elevation model"
   ]
  },
  {
   "cell_type": "markdown",
   "metadata": {},
   "source": [
    "### 2.3 Creating a GUI\n",
    "\n",
    "A graphical user interface (\"GUI\") has been developed allowing the user to choose options. There are three choices to be made - the number of particles, the windspeed and the surface that the particles land on.\n",
    "\n",
    "The recommended number of particles is 5000 although, as you will see in the output, it is common to have individual particles landing some distance from the main landing area. If the user is concerned about this then the model could be run multiple times or the number of particles increased to have a clear understanding of the potential landing range under different circumstances.The landing zone is also highly susceptible to changes in assumptions about particle movement. If there is some uncertainty about these parameters then a more cautious approach would be to consider a wider area to be the \"danger zone\" and not just the areas where particles are modelled to land.\n",
    "\n",
    "The windspeed can be varied. This influences both the turbulence when the particles are high and the distance particles can travel in the direction of the prevailing wind.\n",
    "\n",
    "The basic model considers the particles landing on a flat surface. In real life surfaces are not usually flat so there is also the option to choose a contoured surface and see how this influences the landing zone.\n",
    "\n"
   ]
  },
  {
   "cell_type": "code",
   "execution_count": 2,
   "metadata": {},
   "outputs": [
    {
     "name": "stdout",
     "output_type": "stream",
     "text": [
      "The number of particles is 5000\n",
      "The wind speed is  4\n",
      "The model uses a Flat plain\n"
     ]
    }
   ],
   "source": [
    "# Setting up GUI, this part of the code runs before main() at the bottom\n",
    "\n",
    "# This is the routine that runs when the user clicks the run button\n",
    "def routine():\n",
    "    global num_of_particles  # Used in other functions so made global\n",
    "    num_of_particles = int(my_entry.get())\n",
    "    print(\"The number of particles is\", num_of_particles)\n",
    "    global wind_speed  \n",
    "    wind_speed = int(scale_widget.get())\n",
    "    print(\"The wind speed is \", wind_speed)\n",
    "    global topography  # Used to select the type of surface or basemap\n",
    "    topography = str(listbox_widget.get(tk.ANCHOR))\n",
    "    print(\"The model uses a\", topography)\n",
    "   \n",
    "# Set up the GUI window and size    \n",
    "root = tk.Tk()\n",
    "root.geometry(\"500x300\")\n",
    "root.title(\"Bacterial Bomb\") #Add a title to the GUI window  \n",
    "\n",
    "# Add a button used for running the program, routine run when button clicked \n",
    "button1 = tk.Button(root, text =\"Run\", command=routine)\n",
    "button1.grid(row=6, column=0)\n",
    "\n",
    "# Add a label above the entry box\n",
    "label2 = tk.Label(root, text=\"Enter number of particles: 5000 recommended\")\n",
    "label2.grid(row=2, column=4, padx=5, pady=5)\n",
    "\n",
    "# Add an entry box used for number of particles\n",
    "my_entry = tk.Entry(root, width=15)\n",
    "my_entry.grid(row=3, column=4)\n",
    "\n",
    "# Add a label above the scale widget\n",
    "label3 = tk.Label(root, text=\"Enter wind speed (beaufort scale)\")\n",
    "label3.grid(row=4, column=4)\n",
    "\n",
    "# Add a scale widget for windspeed\n",
    "# Source: dummies.com/programming/python/using-tkinter-widgets-in-python/\n",
    "scale_widget = tk.Scale(root, from_=0, to=12, orient=tk.HORIZONTAL)\n",
    "scale_widget.set(4)\n",
    "scale_widget.grid(row=5, column=4)\n",
    "\n",
    "# Add a label above the scale widget\n",
    "label4 = tk.Label(root, text=\"Enter the type of surface\")\n",
    "label4.grid(row=7, column=4)\n",
    "\n",
    "# Add a drop down box for choosing the type of surface\n",
    "listbox_entries = [\"Flat plain\", \"Digital elevation model\"]\n",
    "listbox_widget = tk.Listbox(root, height=2, width=25)\n",
    "for entry in listbox_entries:\n",
    "    listbox_widget.insert(tk.END, entry)\n",
    "listbox_widget.grid(row=8, column=4, padx=5, pady=5)\n",
    "\n",
    "textbox = tk.Text(root,height=4, width=20, padx=5,\n",
    "                  pady=5, font=(\"Helvetica\",10))\n",
    "textbox.insert(\n",
    "    tk.END,\"INSTRUCTIONS\\nChoose parameters\\nPress Run\\nClose this window\\n\")\n",
    "textbox.grid(row=0, column=0, padx=5, pady=5)\n",
    "\n",
    "\n",
    "root.mainloop()# GUI window keeps running until it is closed"
   ]
  },
  {
   "cell_type": "markdown",
   "metadata": {},
   "source": [
    "### 2.4 Scraping the bomb site data and loading the environment data\n",
    "These are included in the final program as the functions getdata() and getenvironment()"
   ]
  },
  {
   "cell_type": "code",
   "execution_count": 3,
   "metadata": {},
   "outputs": [
    {
     "data": {
      "text/plain": [
       "'\\n# Plot the data for intial exploration\\nmatplotlib.pyplot.imshow(citydata)\\nmatplotlib.pyplot.axis([0,299,0,299])\\nmatplotlib.pyplot.show() # Appears to be data around x50 y150\\n'"
      ]
     },
     "execution_count": 3,
     "metadata": {},
     "output_type": "execute_result"
    }
   ],
   "source": [
    "# Scraping data from the web to identify bomb location (need to be online)\n",
    "# Website address line is too long but could not make it work splitting it up\n",
    "def getdata():\n",
    "    \n",
    "    city = []\n",
    "    url =\"http://www.geog.leeds.ac.uk/courses/computing/study/core-python-odl2/assessment2/wind.raster\"\n",
    "    html_content = requests.get(url).text\n",
    "    soup = BeautifulSoup(html_content, \"lxml\")\n",
    "    city = soup.find_all(\"p\")\n",
    "# Save beautiful soup resultset as text file to access the individual numbers\n",
    "# Saving to a file then reading that file seems rather inefficent\n",
    "# Need to find a better way to access the data using BeautifulSoup\n",
    "    with open('city.txt', 'w') as testfile:\n",
    "        for row in city:\n",
    "            testfile.write(' '.join([str(a) for a in row]) + '\\n')\n",
    "\n",
    "# This code opens the text file and defines the reader, the new line separator\n",
    "# in the dataset, and the format of the data with one decimal place.\n",
    "# Code mainly copied from agent based model work. \n",
    "    f = []\n",
    "    f = open('city.txt', newline='\\n')\n",
    "    reader = csv.reader(f, quoting=csv.QUOTE_NONNUMERIC)\n",
    "    for row in reader: #Fill the list with 2D data row by row\n",
    "        citydata.append(row)\n",
    "    del citydata[300]  # Deletes a fragment of html syntax\n",
    "    f.close() \n",
    "    #print(citydata[0]) #Testing prints\n",
    "    #print(len(citydata))#Expecting 300 items, but gives 301\n",
    "    #print(citydata[300]) #Check what is the last item to make 301\n",
    "    #del citydata[300] #Deletes a fragment of html syntax\n",
    "    #print(len(citydata)) #We now have a list with data for a 300x300 frame\n",
    "\n",
    "# This code reads an environment data file to use as a DEM basemap.\n",
    "# Then, if chosen, instead of landing on flat surface particles land on a DEM.\n",
    "# This code is copied from agent based model work.\n",
    "def getenvironment():\n",
    "    file = []\n",
    "    file = open('in.txt', newline='')\n",
    "    reader = csv.reader(file, quoting=csv.QUOTE_NONNUMERIC)\n",
    "    for row in reader:  # Fill the list with 2D data row by row\n",
    "        environment.append(row)\n",
    "    file.close() \n",
    "# Find height of land at bomb site\n",
    "# Particle assumed to be released from height of building + height of land \n",
    "    #print(environment[150][50])\n",
    "\n",
    "\"\"\"\n",
    "# Plot the data for intial exploration\n",
    "matplotlib.pyplot.imshow(citydata)\n",
    "matplotlib.pyplot.axis([0,299,0,299])\n",
    "matplotlib.pyplot.show() # Appears to be data around x50 y150\n",
    "\"\"\"\n"
   ]
  },
  {
   "cell_type": "markdown",
   "metadata": {},
   "source": [
    "### 2.5 Initial examination of the data and finding the bomb location"
   ]
  },
  {
   "cell_type": "code",
   "execution_count": 4,
   "metadata": {},
   "outputs": [],
   "source": [
    "# This code identifies the bomb site \n",
    "def findbomb():\n",
    "    for i in range (len(citydata)):\n",
    "        for j in range (len(citydata[i])):\n",
    "            if citydata[i][j]>0:\n",
    "                #print(citydata[i][j])\n",
    "                global xb\n",
    "                global yb\n",
    "                xb = j  # The coordinates of the bomb                \n",
    "                yb = i \n",
    "                \n",
    "# So now we know that there is a single bombsite at location x50,y150.\n",
    "# It is marked by the number 255, whilst all other cells have zero\n"
   ]
  },
  {
   "cell_type": "markdown",
   "metadata": {},
   "source": [
    "### 2.6 Creating particles\n",
    "In this section we create identical particles which are subsequently moved using the methods in an associated file.\n",
    "\n",
    "Each particle has an x, y and z (height) attribute as well as the windspeed and an ability to see the DEM in the environment file.\n",
    "\n",
    "The initial particle height is 76m for a flat plain surface (75m building plus 1m for a person standing on top).\n",
    "The land at the bomb site has an elevation of 200m so when a DEM is used the initial particle height is 276m.\n",
    "\n",
    "\n",
    "#### Height movement\n",
    "The bacterial bomb has been released from a building that is 75m high.It is assumed that it is released by a human standing on top of the building so the actual height of release is 76m.\n",
    "\n",
    "If the particle is above 75m then it has;\n",
    "\n",
    "    - A 20% chance of rising by 1m\n",
    "    - A 10% chance of staying the same level\n",
    "    - A 70% chance of falling 1m.\n",
    "At 75m and below it will simply fall by one metre per second.\n",
    "\n",
    "#### Geographical direction\n",
    "    -There is a 5% chance the particle will blow west\n",
    "    -A 10% chance of blowing North or South\n",
    "    -A 75% chance of blowing East\n",
    "Each iteration the particle will move one pixel on the screen.\n"
   ]
  },
  {
   "cell_type": "code",
   "execution_count": 5,
   "metadata": {},
   "outputs": [],
   "source": [
    "# This function creates particles used in function below\n",
    "# Assume a human stands on the building to release particles 1m above roof\n",
    "# If \"Flat plain\" is selected particle height is 75m plus 1m = 76m\n",
    "# If \"DEM\" is selected particle height is 200m + 76m = 276m  \n",
    "def createparticles():\n",
    "    if topography == \"Digital elevation model\": #Selected in GUI\n",
    "        z = 276 # The elevation in the DEM at the bomb site is 200m\n",
    "    else:\n",
    "        z = 76  \n",
    "    \n",
    "    for i in range(num_of_particles):\n",
    "        x = xb\n",
    "        y = yb\n",
    "        ws = wind_speed\n",
    "        particles.append(particlemove.Particle (x, y, z, ws, environment))\n",
    "        #print(particles[i])  # Used for testing\n",
    "        #print(particles[0].x)\n"
   ]
  },
  {
   "cell_type": "markdown",
   "metadata": {},
   "source": [
    "### 2.7 Iterate particles\n",
    "The code below iterates the particles through the methods in the particlemove.py file. \n",
    "There are separate methods for z movement (up or down), for assessing whether the particle has landed and for the xy coordinate movement. These methods are examined in more detail in section XX.\n"
   ]
  },
  {
   "cell_type": "code",
   "execution_count": 6,
   "metadata": {},
   "outputs": [],
   "source": [
    "# This function iterates the particles through methods in particlemove.py\n",
    "def iterateparticles():\n",
    "    for j in range(num_of_iterations):\n",
    "        #print(\"Iteration\")\n",
    "        for i in range(num_of_particles):\n",
    "            #print(\"Particle moving\") \n",
    "            particles[i].zmove()  # Moves particles up or down\n",
    "            particles[i].landing()  # Considers if the particle has landed\n",
    "            particles[i].xymove()  # Moves particles x or y coordinates\n",
    "\n",
    "        #for i in range(num_of_particles):\n",
    "            #print(particles[i])\n"
   ]
  },
  {
   "cell_type": "markdown",
   "metadata": {},
   "source": [
    "   ### 2.8 Plotting the results\n",
    "   The results are plotted onto a density map.\n",
    "   Initially the number of particles in each \"cell\" are counted. This is recorded in the citydata file. \n",
    "   For the flat plain surface a simple density map is plotted. With 5000 particles the highest numbers are typically around 80. However if you set 80 as the max this highlights these high areas but it is difficult to see the broader range of the landing zone. Therefore the map works better with a max of 40. To further highlight the range of the landing zone cells with a single particle have been highlighted with a white spot.     \n",
    "A different map is developed for the DEM option. This shows the contours and then the particles are shown by different coloured dots. The ground falls away from the bomb site as the particles move East so they tend to travel further than on the flat plain. "
   ]
  },
  {
   "cell_type": "code",
   "execution_count": 7,
   "metadata": {},
   "outputs": [],
   "source": [
    "# Plot the data as a density map.\n",
    "# Firstly record the number of particles in each cell of citydata\n",
    "# Increment the citydata file for each particle landing\n",
    "# Then plot this data as a density map\n",
    "# Two mapping options based on Flat plain or DEM selection\n",
    "def plotdata():\n",
    "    #print(\"Plotting data\")\n",
    "    for i in range(num_of_particles):\n",
    "        citydata[particles[i].y][particles[i].x] += 1  # Increment per particle \n",
    "    citydata[150][50] -= 255 #Set bomb site data to zero\n",
    "    \n",
    "    #for i in range(len(citydata)):\n",
    "        #for j in range(len(citydata[i])):\n",
    "            #if citydata[i][j]>60: #Used to examine the upper range of data\n",
    "                #print(\"x \",i,\"y \",j,\"number \", citydata[i][j])\n",
    "\n",
    "# If the user has chosen a Flat plain in the GUI the topography = Flat plain\n",
    "    if topography == \"Flat plain\":\n",
    "        #print(\"Flat plain\")    \n",
    "        # Vary the max in line below to see broad range or high central points\n",
    "        matplotlib.pyplot.imshow(citydata, vmin=0,vmax=40)\n",
    "        matplotlib.pyplot.colorbar(label=\"Particles\")\n",
    "        matplotlib.pyplot.title(\"Map showing distribution of particles\",\n",
    "                                fontdict=None, loc=None, pad = None, y = None)\n",
    "        matplotlib.pyplot.text(45, 80, s=\"X marks the bomb site\", fontsize=7)\n",
    "        matplotlib.pyplot.text(\n",
    "            45, 76,s=\"White dots mark cells where single particles landed\",\n",
    "            fontsize=7)\n",
    "        matplotlib.pyplot.axis([45, 200, 100, 200])\n",
    "        matplotlib.pyplot.scatter(50, 150, marker=\"x\", linewidth=3, c=\"w\")\n",
    "        # Lines below add white dots where there is a single particle\n",
    "        for i in range(len(citydata)):\n",
    "            for j in range(len(citydata[i])):\n",
    "                if citydata[i][j] == 1:\n",
    "                    matplotlib.pyplot.scatter(j, i, s=0.3, c=\"w\")\n",
    "        matplotlib.pyplot.show()\n",
    "            \n",
    "    else: #If DEM has been chosen\n",
    "        #print(\"Digital elevation model\")\n",
    "        matplotlib.pyplot.contourf(environment)\n",
    "        matplotlib.pyplot.colorbar(label=\"Elevation\")\n",
    "        matplotlib.pyplot.title(\n",
    "            \"Map showing distribution of particles\",\n",
    "            fontdict=None, loc=None, pad=None, y=None)\n",
    "        # Next two lines are too long, splitting them mad the plot look poor\n",
    "        matplotlib.pyplot.text(45, 66, s=\"X marks the bomb site, White dots mark cells where single particles landed\",fontsize=7)\n",
    "        matplotlib.pyplot.text(45, 62, s=\"Pink dots mark cells where 2 to 15 particles landed, Red dots mark cells where more than 15 landed\",            fontsize=7)\n",
    "        matplotlib.pyplot.axis([45, 300, 80, 220])\n",
    "        matplotlib.pyplot.scatter(50, 150, marker=\"x\", linewidth=3, c=\"w\")\n",
    "        # Code below creates a scatter plot showing different intensities\n",
    "        for i in range(len(citydata)):\n",
    "            for j in range(len(citydata[i])):\n",
    "                if citydata[i][j] > 15:\n",
    "                    matplotlib.pyplot.scatter(j, i, s=0.3, c=\"r\")\n",
    "                elif citydata[i][j] > 1 <16:\n",
    "                    matplotlib.pyplot.scatter(j, i, s=0.3, c=\"tab:pink\")\n",
    "                elif citydata[i][j] == 1:\n",
    "                    matplotlib.pyplot.scatter(j, i, s=0.3, c=\"w\")\n",
    "        matplotlib.pyplot.show()"
   ]
  },
  {
   "cell_type": "markdown",
   "metadata": {},
   "source": [
    "### 2.9 Saving the density map data\n",
    "The code below saves the density map data to a text file. It over writes the previous data each time you run the model.\n"
   ]
  },
  {
   "cell_type": "code",
   "execution_count": 8,
   "metadata": {},
   "outputs": [],
   "source": [
    "# Save the density map to a text file (Need to eliminate decimal place)\n",
    "def savedata():\n",
    "    with open('citydata.txt', 'w') as testfile:\n",
    "        for row in citydata:\n",
    "            testfile.write(' '.join([str(a) for a in row]) + '\\n')\n"
   ]
  },
  {
   "cell_type": "markdown",
   "metadata": {},
   "source": [
    "### 2.10 Moving the particles\n",
    "The particles are moved using a class of particles and methods in an associated file particlemove.py\n",
    "\n",
    "### 2.10.1 Setting up the class\n",
    "The particles are set up using the arguments attributed to them in the create particles function.\n",
    "Each particle also has a landed argument (which switches to 1 when it lands) and an argument where the intial height is stored.\n"
   ]
  },
  {
   "cell_type": "code",
   "execution_count": 9,
   "metadata": {},
   "outputs": [],
   "source": [
    "\n",
    "import random\n",
    "\n",
    "# Creating class\n",
    "class Particle:\n",
    "    \n",
    "    def __init__(self,x,y,z,ws,environment):\n",
    "        self.x = x\n",
    "        self.y = y\n",
    "        self.z = z\n",
    "        self.ws = ws  #Stores windspeed\n",
    "        self.environment = environment  # Stores digital elevation model\n",
    "        self.landed = 0  # Switches to 1 when particle has landed\n",
    "        self.refheight = z # This is the starting \"z\" \n",
    "    \n",
    "        \n",
    "    # Method used for printing particle details    \n",
    "    def __str__(self):\n",
    "        return (str(\"x\")+ str(self.x)+\n",
    "                \" y\"+str(self.y)+\" z\"+str(self.z)+ \" Elevation \"+\n",
    "                str(self.environment[self.y][self.x]))\n",
    "    "
   ]
  },
  {
   "cell_type": "markdown",
   "metadata": {},
   "source": [
    "### 2.10.2 Particle methods used for moving\n",
    "\n",
    "There are three separate methods - one for determining up/down movement, one for determining if the particle has landed and one for determining xy movement.\n",
    "\n",
    "### 2.10.3 Up/down movement method"
   ]
  },
  {
   "cell_type": "code",
   "execution_count": 10,
   "metadata": {},
   "outputs": [
    {
     "ename": "IndentationError",
     "evalue": "unexpected indent (<ipython-input-10-803b929a2303>, line 2)",
     "output_type": "error",
     "traceback": [
      "\u001b[1;36m  File \u001b[1;32m\"<ipython-input-10-803b929a2303>\"\u001b[1;36m, line \u001b[1;32m2\u001b[0m\n\u001b[1;33m    def zmove(self):\u001b[0m\n\u001b[1;37m    ^\u001b[0m\n\u001b[1;31mIndentationError\u001b[0m\u001b[1;31m:\u001b[0m unexpected indent\n"
     ]
    }
   ],
   "source": [
    " # Method used for moving particle up or down           \n",
    "    def zmove(self):\n",
    "        # Defines a turbulence factor based on windspeed\n",
    "        if self.ws > 8:\n",
    "            turb = 3\n",
    "        elif self.ws > 5:\n",
    "            turb = 2\n",
    "        elif self.ws > 3:\n",
    "            turb = 1\n",
    "        else:\n",
    "            turb = 1\n",
    "        #print (\"Up/down cycle\")\n",
    "        # The up or down movement is amplified by higher turbulence\n",
    "        if self.z> self.refheight-1:  # Up/down movement occurs above building\n",
    "            #print(\"Above\")\n",
    "            rh = random.randint(0,9)  # Used for probability of up/down \n",
    "            #print (\"rh= \",rh)\n",
    "            if rh < 2:\n",
    "                self.z += (1*turb)  # 20% chance going up \n",
    "                #print(\"Up\",self.z)\n",
    "            elif rh > 2:\n",
    "                self.z -= (1*turb)  # 70% chance going down\n",
    "                #print(\"Down\",self.z)\n",
    "            # if rh equals 2 there no change - 10% chance it stays same level\n",
    "        else:  # Turbulence assumed not to apply at 75m and below\n",
    "            if self.landed == 0: #This switches to 1 when the particle lands \n",
    "                self.z -= 1\n",
    "                #print(\"Down\", self.z)\n",
    "            #else:\n",
    "                #print(\"Landed\", self.z)\n",
    "    \n",
    "    "
   ]
  },
  {
   "cell_type": "markdown",
   "metadata": {},
   "source": [
    "### 2.10.4 Landed method"
   ]
  },
  {
   "cell_type": "code",
   "execution_count": null,
   "metadata": {},
   "outputs": [],
   "source": [
    "# Method used to assess whether the particle has landed    \n",
    "    def landing(self):\n",
    "        if self.refheight == 76:  # True where flat plain is selected in GUI\n",
    "            if self.z ==0:  # When z is zero it has landed\n",
    "                #print(\"Landed, coordinates fixed\")\n",
    "                #print(\"x \", self.x, \"y \", self.y, \"Height\", self.z)\n",
    "                #print(\"Elevation\", self.environment[self.y][self.x])\n",
    "                self.landed = 1  # Switches to landed so coordinates are fixed\n",
    "        else: # Will be the case if DEM selected in GUI\n",
    "            if self.z <= self.environment[self.y][self.x]:  # < Elevation\n",
    "                self.z = self.environment[self.y][self.x]\n",
    "                self.landed = 1  # Switches to landed to prevent further mvt.\n",
    "            #print(\"Landed, coordinates fixed\")\n",
    "            #print(\"x \", self.x, \"y \", self.y, \"Height\", self.z)\n",
    "            #print(\"Elevation\", self.environment[self.y][self.x])\n",
    "     "
   ]
  },
  {
   "cell_type": "markdown",
   "metadata": {},
   "source": [
    "### 2.10.5 X and Y movement method"
   ]
  },
  {
   "cell_type": "code",
   "execution_count": null,
   "metadata": {},
   "outputs": [],
   "source": [
    "# Method used to change the x and y coordinates until particle lands\n",
    "    # Windpseed selected in GUI can amplify movement Eastwards     \n",
    "    def xymove(self):\n",
    "        #print(\"XY Coordinate cycle)\n",
    "        if self.landed == 1:\n",
    "            #print(\"Landed, no xy move\")\n",
    "            self.x = self.x\n",
    "        else:\n",
    "            if self.ws > 6:  # Easterly movement multiplied at higher windspeed\n",
    "                multiple = 2 \n",
    "            else:\n",
    "                multiple = 1                  \n",
    "            rm = random.randint(0,19)\n",
    "            #print (\"rm =\", rm)\n",
    "            if rm == 0:\n",
    "                self.x -= 1  # 5% chance of Westerly movement\n",
    "            elif rm < 3:\n",
    "                self.y += 1  # 10% chance of Northerly movement\n",
    "            elif rm < 5:\n",
    "                self.y -= 1  # 10% chance of Southerly movement\n",
    "            else:\n",
    "                self.x += (1*multiple) # High winds Easterly movement amplified   \n",
    "            \n",
    "            \n",
    "         "
   ]
  },
  {
   "cell_type": "markdown",
   "metadata": {},
   "source": [
    "### 2.11 Organising the code using a main function\n",
    "The code above has been organised into functions which are then called in the main function below."
   ]
  },
  {
   "cell_type": "code",
   "execution_count": null,
   "metadata": {},
   "outputs": [],
   "source": [
    "# This is the main function that organises and calls the other functions\n",
    "def main():\n",
    "    getdata()\n",
    "    findbomb()\n",
    "    getenvironment()\n",
    "    createparticles()\n",
    "    iterateparticles()\n",
    "    plotdata()\n",
    "    savedata()\n",
    "    print(\"End, file saved to citydata1.txt\")\n",
    "        \n",
    "main()"
   ]
  },
  {
   "cell_type": "code",
   "execution_count": null,
   "metadata": {},
   "outputs": [],
   "source": []
  }
 ],
 "metadata": {
  "kernelspec": {
   "display_name": "Python 3",
   "language": "python",
   "name": "python3"
  },
  "language_info": {
   "codemirror_mode": {
    "name": "ipython",
    "version": 3
   },
   "file_extension": ".py",
   "mimetype": "text/x-python",
   "name": "python",
   "nbconvert_exporter": "python",
   "pygments_lexer": "ipython3",
   "version": "3.8.5"
  }
 },
 "nbformat": 4,
 "nbformat_minor": 4
}
